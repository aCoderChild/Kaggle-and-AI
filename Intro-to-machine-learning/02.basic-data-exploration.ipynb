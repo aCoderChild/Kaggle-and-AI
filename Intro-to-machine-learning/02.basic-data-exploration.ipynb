{
 "cells": [
  {
   "cell_type": "markdown",
   "id": "e4a63a85",
   "metadata": {
    "papermill": {
     "duration": 0.003773,
     "end_time": "2024-11-20T15:06:23.529340",
     "exception": false,
     "start_time": "2024-11-20T15:06:23.525567",
     "status": "completed"
    },
    "tags": []
   },
   "source": [
    "**[Machine Learning Course Home Page](https://www.kaggle.com/learn/machine-learning)**\n",
    "\n",
    "---\n"
   ]
  },
  {
   "cell_type": "markdown",
   "id": "12f57b0b",
   "metadata": {
    "papermill": {
     "duration": 0.002706,
     "end_time": "2024-11-20T15:06:23.535286",
     "exception": false,
     "start_time": "2024-11-20T15:06:23.532580",
     "status": "completed"
    },
    "tags": []
   },
   "source": [
    "This exercise will test your ability to read a data file and understand statistics about the data.\n",
    "\n",
    "In later exercises, you will apply techniques to filter the data, build a machine learning model, and iteratively improve your model.\n",
    "\n",
    "The course examples use data from Melbourne. To ensure you can apply these techniques on your own, you will have to apply them to a new dataset (with house prices from Iowa).\n",
    "\n",
    "The exercises use a \"notebook\" coding environment.  In case you are unfamiliar with notebooks, we have a [90-second intro video](https://www.youtube.com/watch?v=4C2qMnaIKL4).\n",
    "\n",
    "# Exercises\n",
    "\n",
    "Run the following cell to set up code-checking, which will verify your work as you go."
   ]
  },
  {
   "cell_type": "code",
   "execution_count": 1,
   "id": "6706f62e",
   "metadata": {
    "execution": {
     "iopub.execute_input": "2024-11-20T15:06:23.542937Z",
     "iopub.status.busy": "2024-11-20T15:06:23.542429Z",
     "iopub.status.idle": "2024-11-20T15:06:24.492959Z",
     "shell.execute_reply": "2024-11-20T15:06:24.491685Z"
    },
    "papermill": {
     "duration": 0.957351,
     "end_time": "2024-11-20T15:06:24.495470",
     "exception": false,
     "start_time": "2024-11-20T15:06:23.538119",
     "status": "completed"
    },
    "tags": []
   },
   "outputs": [
    {
     "name": "stdout",
     "output_type": "stream",
     "text": [
      "Setup Complete\n"
     ]
    }
   ],
   "source": [
    "# Set up code checking\n",
    "from learntools.core import binder\n",
    "binder.bind(globals())\n",
    "from learntools.machine_learning.ex2 import *\n",
    "print(\"Setup Complete\")"
   ]
  },
  {
   "cell_type": "markdown",
   "id": "77643a1b",
   "metadata": {
    "papermill": {
     "duration": 0.003277,
     "end_time": "2024-11-20T15:06:24.502077",
     "exception": false,
     "start_time": "2024-11-20T15:06:24.498800",
     "status": "completed"
    },
    "tags": []
   },
   "source": [
    "## Step 1: Loading Data\n",
    "Read the Iowa data file into a Pandas DataFrame called `home_data`."
   ]
  },
  {
   "cell_type": "code",
   "execution_count": 2,
   "id": "bcd437f3",
   "metadata": {
    "execution": {
     "iopub.execute_input": "2024-11-20T15:06:24.510912Z",
     "iopub.status.busy": "2024-11-20T15:06:24.509685Z",
     "iopub.status.idle": "2024-11-20T15:06:24.561226Z",
     "shell.execute_reply": "2024-11-20T15:06:24.560074Z"
    },
    "papermill": {
     "duration": 0.058123,
     "end_time": "2024-11-20T15:06:24.563379",
     "exception": false,
     "start_time": "2024-11-20T15:06:24.505256",
     "status": "completed"
    },
    "tags": []
   },
   "outputs": [
    {
     "data": {
      "application/javascript": [
       "parent.postMessage({\"jupyterEvent\": \"custom.exercise_interaction\", \"data\": {\"outcomeType\": 1, \"valueTowardsCompletion\": 0.5, \"interactionType\": 1, \"questionType\": 1, \"questionId\": \"1_LoadHomeData\", \"learnToolsVersion\": \"0.3.4\", \"failureMessage\": \"\", \"exceptionClass\": \"\", \"trace\": \"\"}}, \"*\")"
      ],
      "text/plain": [
       "<IPython.core.display.Javascript object>"
      ]
     },
     "metadata": {},
     "output_type": "display_data"
    },
    {
     "data": {
      "text/markdown": [
       "<span style=\"color:#33cc33\">Correct</span>"
      ],
      "text/plain": [
       "Correct"
      ]
     },
     "metadata": {},
     "output_type": "display_data"
    }
   ],
   "source": [
    "import pandas as pd\n",
    "\n",
    "# Path of the file to read\n",
    "iowa_file_path = '../input/home-data-for-ml-course/train.csv'\n",
    "\n",
    "# Fill in the line below to read the file into a variable home_data\n",
    "home_data = pd.read_csv(iowa_file_path)\n",
    "\n",
    "# Call line below with no argument to check that you've loaded the data correctly\n",
    "step_1.check()"
   ]
  },
  {
   "cell_type": "code",
   "execution_count": 3,
   "id": "f81dc498",
   "metadata": {
    "execution": {
     "iopub.execute_input": "2024-11-20T15:06:24.571920Z",
     "iopub.status.busy": "2024-11-20T15:06:24.571507Z",
     "iopub.status.idle": "2024-11-20T15:06:24.576172Z",
     "shell.execute_reply": "2024-11-20T15:06:24.575102Z"
    },
    "papermill": {
     "duration": 0.011696,
     "end_time": "2024-11-20T15:06:24.578386",
     "exception": false,
     "start_time": "2024-11-20T15:06:24.566690",
     "status": "completed"
    },
    "tags": []
   },
   "outputs": [],
   "source": [
    "# Lines below will give you a hint or solution code\n",
    "#step_1.hint()\n",
    "#step_1.solution()"
   ]
  },
  {
   "cell_type": "markdown",
   "id": "dfe32e37",
   "metadata": {
    "papermill": {
     "duration": 0.003171,
     "end_time": "2024-11-20T15:06:24.585407",
     "exception": false,
     "start_time": "2024-11-20T15:06:24.582236",
     "status": "completed"
    },
    "tags": []
   },
   "source": [
    "## Step 2: Review The Data\n",
    "Use the command you learned to view summary statistics of the data. Then fill in variables to answer the following questions"
   ]
  },
  {
   "cell_type": "code",
   "execution_count": 4,
   "id": "abcdf8d3",
   "metadata": {
    "execution": {
     "iopub.execute_input": "2024-11-20T15:06:24.594166Z",
     "iopub.status.busy": "2024-11-20T15:06:24.593771Z",
     "iopub.status.idle": "2024-11-20T15:06:24.625421Z",
     "shell.execute_reply": "2024-11-20T15:06:24.624408Z"
    },
    "papermill": {
     "duration": 0.038989,
     "end_time": "2024-11-20T15:06:24.627806",
     "exception": false,
     "start_time": "2024-11-20T15:06:24.588817",
     "status": "completed"
    },
    "tags": []
   },
   "outputs": [
    {
     "data": {
      "text/plain": [
       "<bound method NDFrame.describe of         Id  MSSubClass MSZoning  LotFrontage  LotArea Street Alley LotShape  \\\n",
       "0        1          60       RL         65.0     8450   Pave   NaN      Reg   \n",
       "1        2          20       RL         80.0     9600   Pave   NaN      Reg   \n",
       "2        3          60       RL         68.0    11250   Pave   NaN      IR1   \n",
       "3        4          70       RL         60.0     9550   Pave   NaN      IR1   \n",
       "4        5          60       RL         84.0    14260   Pave   NaN      IR1   \n",
       "...    ...         ...      ...          ...      ...    ...   ...      ...   \n",
       "1455  1456          60       RL         62.0     7917   Pave   NaN      Reg   \n",
       "1456  1457          20       RL         85.0    13175   Pave   NaN      Reg   \n",
       "1457  1458          70       RL         66.0     9042   Pave   NaN      Reg   \n",
       "1458  1459          20       RL         68.0     9717   Pave   NaN      Reg   \n",
       "1459  1460          20       RL         75.0     9937   Pave   NaN      Reg   \n",
       "\n",
       "     LandContour Utilities  ... PoolArea PoolQC  Fence MiscFeature MiscVal  \\\n",
       "0            Lvl    AllPub  ...        0    NaN    NaN         NaN       0   \n",
       "1            Lvl    AllPub  ...        0    NaN    NaN         NaN       0   \n",
       "2            Lvl    AllPub  ...        0    NaN    NaN         NaN       0   \n",
       "3            Lvl    AllPub  ...        0    NaN    NaN         NaN       0   \n",
       "4            Lvl    AllPub  ...        0    NaN    NaN         NaN       0   \n",
       "...          ...       ...  ...      ...    ...    ...         ...     ...   \n",
       "1455         Lvl    AllPub  ...        0    NaN    NaN         NaN       0   \n",
       "1456         Lvl    AllPub  ...        0    NaN  MnPrv         NaN       0   \n",
       "1457         Lvl    AllPub  ...        0    NaN  GdPrv        Shed    2500   \n",
       "1458         Lvl    AllPub  ...        0    NaN    NaN         NaN       0   \n",
       "1459         Lvl    AllPub  ...        0    NaN    NaN         NaN       0   \n",
       "\n",
       "     MoSold YrSold  SaleType  SaleCondition  SalePrice  \n",
       "0         2   2008        WD         Normal     208500  \n",
       "1         5   2007        WD         Normal     181500  \n",
       "2         9   2008        WD         Normal     223500  \n",
       "3         2   2006        WD        Abnorml     140000  \n",
       "4        12   2008        WD         Normal     250000  \n",
       "...     ...    ...       ...            ...        ...  \n",
       "1455      8   2007        WD         Normal     175000  \n",
       "1456      2   2010        WD         Normal     210000  \n",
       "1457      5   2010        WD         Normal     266500  \n",
       "1458      4   2010        WD         Normal     142125  \n",
       "1459      6   2008        WD         Normal     147500  \n",
       "\n",
       "[1460 rows x 81 columns]>"
      ]
     },
     "execution_count": 4,
     "metadata": {},
     "output_type": "execute_result"
    }
   ],
   "source": [
    "# Print summary statistics in next line\n",
    "____\n",
    "home_data.describe"
   ]
  },
  {
   "cell_type": "code",
   "execution_count": 5,
   "id": "d23d8680",
   "metadata": {
    "execution": {
     "iopub.execute_input": "2024-11-20T15:06:24.636608Z",
     "iopub.status.busy": "2024-11-20T15:06:24.636246Z",
     "iopub.status.idle": "2024-11-20T15:06:24.646172Z",
     "shell.execute_reply": "2024-11-20T15:06:24.645066Z"
    },
    "papermill": {
     "duration": 0.01677,
     "end_time": "2024-11-20T15:06:24.648268",
     "exception": false,
     "start_time": "2024-11-20T15:06:24.631498",
     "status": "completed"
    },
    "tags": []
   },
   "outputs": [
    {
     "data": {
      "application/javascript": [
       "parent.postMessage({\"jupyterEvent\": \"custom.exercise_interaction\", \"data\": {\"outcomeType\": 1, \"valueTowardsCompletion\": 0.5, \"interactionType\": 1, \"questionType\": 1, \"questionId\": \"2_HomeDescription\", \"learnToolsVersion\": \"0.3.4\", \"failureMessage\": \"\", \"exceptionClass\": \"\", \"trace\": \"\"}}, \"*\")"
      ],
      "text/plain": [
       "<IPython.core.display.Javascript object>"
      ]
     },
     "metadata": {},
     "output_type": "display_data"
    },
    {
     "data": {
      "text/markdown": [
       "<span style=\"color:#33cc33\">Correct</span>"
      ],
      "text/plain": [
       "Correct"
      ]
     },
     "metadata": {},
     "output_type": "display_data"
    }
   ],
   "source": [
    "# What is the average lot size (rounded to nearest integer)?\n",
    "avg_lot_size = round(home_data.LotArea.mean())\n",
    "\n",
    "# As of today, how old is the newest home (current year - the date in which it was built)\n",
    "from datetime import datetime\n",
    "newest_home_age = datetime.now().year - home_data.YearBuilt.max()\n",
    "\n",
    "# Checks your answers\n",
    "step_2.check()"
   ]
  },
  {
   "cell_type": "code",
   "execution_count": null,
   "id": "2f3d8bec",
   "metadata": {
    "papermill": {
     "duration": 0.003923,
     "end_time": "2024-11-20T15:06:24.656099",
     "exception": false,
     "start_time": "2024-11-20T15:06:24.652176",
     "status": "completed"
    },
    "tags": []
   },
   "outputs": [],
   "source": []
  },
  {
   "cell_type": "code",
   "execution_count": 6,
   "id": "49b1c45e",
   "metadata": {
    "execution": {
     "iopub.execute_input": "2024-11-20T15:06:24.667670Z",
     "iopub.status.busy": "2024-11-20T15:06:24.666569Z",
     "iopub.status.idle": "2024-11-20T15:06:24.671312Z",
     "shell.execute_reply": "2024-11-20T15:06:24.670291Z"
    },
    "papermill": {
     "duration": 0.013602,
     "end_time": "2024-11-20T15:06:24.673590",
     "exception": false,
     "start_time": "2024-11-20T15:06:24.659988",
     "status": "completed"
    },
    "tags": []
   },
   "outputs": [],
   "source": [
    "#step_2.hint()\n",
    "#step_2.solution()"
   ]
  },
  {
   "cell_type": "markdown",
   "id": "f8876f34",
   "metadata": {
    "papermill": {
     "duration": 0.00341,
     "end_time": "2024-11-20T15:06:24.680798",
     "exception": false,
     "start_time": "2024-11-20T15:06:24.677388",
     "status": "completed"
    },
    "tags": []
   },
   "source": [
    "## Think About Your Data\n",
    "\n",
    "The newest house in your data isn't that new.  A few potential explanations for this:\n",
    "1. They haven't built new houses where this data was collected.\n",
    "1. The data was collected a long time ago. Houses built after the data publication wouldn't show up.\n",
    "\n",
    "If the reason is explanation #1 above, does that affect your trust in the model you build with this data? What about if it is reason #2?\n",
    "\n",
    "How could you dig into the data to see which explanation is more plausible?\n",
    "\n",
    "Check out this **[discussion thread](https://www.kaggle.com/learn-forum/60581)** to see what others think or to add your ideas.\n",
    "\n",
    "# Keep Going\n",
    "\n",
    "You are ready for **[Your First Machine Learning Model](https://www.kaggle.com/dansbecker/your-first-machine-learning-model).**\n"
   ]
  },
  {
   "cell_type": "markdown",
   "id": "ed14cdb2",
   "metadata": {
    "papermill": {
     "duration": 0.003428,
     "end_time": "2024-11-20T15:06:24.687853",
     "exception": false,
     "start_time": "2024-11-20T15:06:24.684425",
     "status": "completed"
    },
    "tags": []
   },
   "source": [
    "---\n",
    "**[Machine Learning Course Home Page](https://www.kaggle.com/learn/machine-learning)**\n",
    "\n"
   ]
  }
 ],
 "metadata": {
  "kaggle": {
   "accelerator": "none",
   "dataSources": [
    {
     "datasetId": 2709,
     "sourceId": 38454,
     "sourceType": "datasetVersion"
    },
    {
     "datasetId": 108980,
     "sourceId": 260251,
     "sourceType": "datasetVersion"
    }
   ],
   "isGpuEnabled": false,
   "isInternetEnabled": false,
   "language": "python",
   "sourceType": "notebook"
  },
  "kernelspec": {
   "display_name": "Python 3",
   "language": "python",
   "name": "python3"
  },
  "language_info": {
   "codemirror_mode": {
    "name": "ipython",
    "version": 3
   },
   "file_extension": ".py",
   "mimetype": "text/x-python",
   "name": "python",
   "nbconvert_exporter": "python",
   "pygments_lexer": "ipython3",
   "version": "3.10.14"
  },
  "papermill": {
   "default_parameters": {},
   "duration": 4.370913,
   "end_time": "2024-11-20T15:06:25.212268",
   "environment_variables": {},
   "exception": null,
   "input_path": "__notebook__.ipynb",
   "output_path": "__notebook__.ipynb",
   "parameters": {},
   "start_time": "2024-11-20T15:06:20.841355",
   "version": "2.6.0"
  }
 },
 "nbformat": 4,
 "nbformat_minor": 5
}
