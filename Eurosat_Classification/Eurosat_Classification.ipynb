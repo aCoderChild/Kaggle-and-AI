{
  "nbformat": 4,
  "nbformat_minor": 0,
  "metadata": {
    "colab": {
      "provenance": [],
      "authorship_tag": "ABX9TyPCAlgK7XMf+xl9yTt7B3xN",
      "include_colab_link": true
    },
    "kernelspec": {
      "name": "python3",
      "display_name": "Python 3"
    },
    "language_info": {
      "name": "python"
    }
  },
  "cells": [
    {
      "cell_type": "markdown",
      "metadata": {
        "id": "view-in-github",
        "colab_type": "text"
      },
      "source": [
        "<a href=\"https://colab.research.google.com/github/aCoderChild/Kaggle-and-AI/blob/main/Eurosat_Classification/Eurosat_Classification.ipynb\" target=\"_parent\"><img src=\"https://colab.research.google.com/assets/colab-badge.svg\" alt=\"Open In Colab\"/></a>"
      ]
    },
    {
      "cell_type": "markdown",
      "source": [
        "# Land Use and Land cover classification with Random Forest (supervised Learning)"
      ],
      "metadata": {
        "id": "m11WRQydmbew"
      }
    },
    {
      "cell_type": "code",
      "source": [],
      "metadata": {
        "id": "qIdNNgVmmn82"
      },
      "execution_count": null,
      "outputs": []
    }
  ]
}